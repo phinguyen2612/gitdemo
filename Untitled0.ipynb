{
  "nbformat": 4,
  "nbformat_minor": 0,
  "metadata": {
    "colab": {
      "provenance": [],
      "authorship_tag": "ABX9TyNnAZHy12xnTdGNcuKFMD7p",
      "include_colab_link": true
    },
    "kernelspec": {
      "name": "python3",
      "display_name": "Python 3"
    },
    "language_info": {
      "name": "python"
    }
  },
  "cells": [
    {
      "cell_type": "markdown",
      "metadata": {
        "id": "view-in-github",
        "colab_type": "text"
      },
      "source": [
        "<a href=\"https://colab.research.google.com/github/phinguyen2612/gitdemo/blob/main/Untitled0.ipynb\" target=\"_parent\"><img src=\"https://colab.research.google.com/assets/colab-badge.svg\" alt=\"Open In Colab\"/></a>"
      ]
    },
    {
      "cell_type": "code",
      "execution_count": 4,
      "metadata": {
        "colab": {
          "base_uri": "https://localhost:8080/"
        },
        "id": "OGVyg04aImd5",
        "outputId": "72f52b3e-ca8d-40e2-dba0-156236fa4516"
      },
      "outputs": [
        {
          "output_type": "stream",
          "name": "stdout",
          "text": [
            " Dữ liệu đã được tạo và xuất ra file data_output.csv\n",
            " Bắt đầu quá trình đẩy code lên GitHub!\n",
            " Code và file dữ liệu đã được đẩy lên GitHub thành công!\n"
          ]
        }
      ],
      "source": [
        "import pandas as pd\n",
        "import numpy as np\n",
        "\n",
        "#  Tạo dữ liệu ngẫu nhiên\n",
        "data = {\n",
        "    \"Tên\": [\"Nguyễn Văn A\", \"Trần Thị B\", \"Lê Văn C\", \"Phạm Thị D\", \"Hoàng Văn E\"],\n",
        "    \"Tuổi\": np.random.randint(18, 60, size=5),\n",
        "    \"Thành phố\": [\"Hà Nội\", \"TP. Hồ Chí Minh\", \"Đà Nẵng\", \"Hải Phòng\", \"Cần Thơ\"]\n",
        "}\n",
        "\n",
        "#  Chuyển dữ liệu thành DataFrame\n",
        "df = pd.DataFrame(data)\n",
        "\n",
        "#  Xuất dữ liệu ra file CSV\n",
        "df.to_csv(\"data_output.csv\", index=False, encoding='utf-8')\n",
        "print(\" Dữ liệu đã được tạo và xuất ra file data_output.csv\")\n"
      ]
    }
  ]
}